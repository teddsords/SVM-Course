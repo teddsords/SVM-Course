{
 "cells": [
  {
   "cell_type": "markdown",
   "source": [
    "# Support Vector Classifier\r\n",
    "\r\n",
    "Support vector classifier is a **soft margin classifier**. We will allow some observations to be incorrectly classified or to be on the wrong side of the margin.\r\n",
    "\r\n",
    "\r\n",
    "**We will limit the classification errors** \r\n",
    "1. We create a misclassification budget (B)\r\n",
    "2. We limit sum of distances of the points on the worng side of the margin (x1 + x2 + x3 + x4) < B\r\n",
    "3. We try o maximize margin while trying to stay within budget.\r\n",
    "4. Usually in our software packages we use C (Cost - Multiplier of the error term) which is inversely related to B.\r\n",
    "\r\n",
    "**Impact of C**\r\n",
    "1. When C is small, margins will beand there will be many support vector and many misclassified observations.\r\n",
    "2. When C is large, margins will be narrow and there will be fewer support vectors and fewer misclassified values.\r\n",
    "3. However, low cost value prevents overfitting and may give better test set performance.\r\n",
    "4. We try to find optimal value of C at with we get best test performance.\r\n",
    "\r\n",
    "**Limitations**\r\n",
    "1. Support Vector classifier is a liner classifier, it cannot classify non linear separable data."
   ],
   "metadata": {}
  }
 ],
 "metadata": {
  "orig_nbformat": 4,
  "language_info": {
   "name": "python"
  }
 },
 "nbformat": 4,
 "nbformat_minor": 2
}