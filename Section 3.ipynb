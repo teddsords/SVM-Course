{
 "cells": [
  {
   "cell_type": "markdown",
   "source": [
    "# Support Vector Machines\r\n",
    "\r\n",
    "They are often considered one of the best \"out of the box\" classifiers.\r\n",
    "\r\n",
    "1. Maximal Margin Classifier\r\n",
    "    *  It can only be applied to when classes are linearly separable and its very simple.\r\n",
    "\r\n",
    "2. Support Vector Classifiers\r\n",
    "    * It is an extension of Maximal Maring Classifier and it can be used on Non-separable data.\r\n",
    "\r\n",
    "3. Support Vector Machines\r\n",
    "    * Normally used in binary classification but it can be extended to more classes. Used with non Linear class boundaries.\r\n"
   ],
   "metadata": {}
  },
  {
   "cell_type": "markdown",
   "source": [
    "# Maximal Margin Classifier\r\n",
    "\r\n",
    "**Hyperplane:** Divided P dimensional space into two parts.\r\n",
    "\r\n",
    "When dividing a One Dimensional space, you can use a point to divide the line. When dividing a two dimensional space, you can use a line to separate it. When separating a three dimensional space, you can use a 2 dimensional plane. \r\n",
    "\r\n",
    "There are infinite hyperplanes.\r\n",
    "\r\n",
    "To calculate the best hyperplane:\r\n",
    "1. Calculate the perpendicular distance of observations from Hyperplane\r\n",
    "2. Minimum value of distance is called **Margin**\r\n",
    "3. Choose the Hyperplane with **maximum value of Margin** \r\n",
    "\r\n",
    "* Support Vector\r\n",
    "1. The observation which fall on margin are known as **Support Vectors**\r\n",
    "2. These classifiers depend on support vectors only\r\n",
    "3. That is why this technique is different from conventional ML techniques\r\n",
    "\r\n",
    "* **LIMITATIONS**\r\n",
    "1. Maximal margin classifier cannot be used if the two classes are not separable by a hyperplane.\r\n",
    "2. Maximal margin classifier is very sensitive to support vector, an aditional observation can lead to a dramatic shif in the maximal margin hyperplane."
   ],
   "metadata": {}
  }
 ],
 "metadata": {
  "orig_nbformat": 4,
  "language_info": {
   "name": "python"
  }
 },
 "nbformat": 4,
 "nbformat_minor": 2
}